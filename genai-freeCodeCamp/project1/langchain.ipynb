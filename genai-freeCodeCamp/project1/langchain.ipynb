{
 "cells": [
  {
   "cell_type": "code",
   "execution_count": 2,
   "metadata": {},
   "outputs": [
    {
     "name": "stdout",
     "output_type": "stream",
     "text": [
      "Unexpected exception formatting exception. Falling back to standard exception\n"
     ]
    },
    {
     "name": "stderr",
     "output_type": "stream",
     "text": [
      "Traceback (most recent call last):\n",
      "  File \"/Users/ari/Desktop/langchain/genai-freeCodeCamp/project1/.venv/lib/python3.12/site-packages/IPython/core/interactiveshell.py\", line 3577, in run_code\n",
      "  File \"/var/folders/r9/3w7hxnm53t34_s8nmmbf0tlc0000gn/T/ipykernel_7095/1014319691.py\", line 1, in <module>\n",
      "    from langchain.llms import OpenAI\n",
      "  File \"/Users/ari/Desktop/langchain/genai-freeCodeCamp/project1/.venv/lib/python3.12/site-packages/langchain/llms/__init__.py\", line 24, in <module>\n",
      "    from langchain_core.language_models.llms import BaseLLM\n",
      "  File \"/Users/ari/Desktop/langchain/genai-freeCodeCamp/project1/.venv/lib/python3.12/site-packages/langchain_core/language_models/__init__.py\", line 40, in <module>\n",
      "    from langchain_core.language_models.base import (\n",
      "  File \"/Users/ari/Desktop/langchain/genai-freeCodeCamp/project1/.venv/lib/python3.12/site-packages/langchain_core/language_models/base.py\", line 23, in <module>\n",
      "    from langchain_core.messages import (\n",
      "  File \"/Users/ari/Desktop/langchain/genai-freeCodeCamp/project1/.venv/lib/python3.12/site-packages/langchain_core/messages/__init__.py\", line 18, in <module>\n",
      "    from langchain_core.messages.ai import (\n",
      "  File \"/Users/ari/Desktop/langchain/genai-freeCodeCamp/project1/.venv/lib/python3.12/site-packages/langchain_core/messages/ai.py\", line 6, in <module>\n",
      "    from langchain_core.messages.base import (\n",
      "  File \"/Users/ari/Desktop/langchain/genai-freeCodeCamp/project1/.venv/lib/python3.12/site-packages/langchain_core/messages/base.py\", line 7, in <module>\n",
      "    from langchain_core.utils import get_bolded_text\n",
      "  File \"/Users/ari/Desktop/langchain/genai-freeCodeCamp/project1/.venv/lib/python3.12/site-packages/langchain_core/utils/__init__.py\", line 18, in <module>\n",
      "    from langchain_core.utils.utils import (\n",
      "  File \"/Users/ari/Desktop/langchain/genai-freeCodeCamp/project1/.venv/lib/python3.12/site-packages/langchain_core/utils/utils.py\", line 12, in <module>\n",
      "    from requests import HTTPError, Response\n",
      "  File \"/Users/ari/Desktop/langchain/genai-freeCodeCamp/project1/.venv/lib/python3.12/site-packages/requests/__init__.py\", line 45, in <module>\n",
      "    from .exceptions import RequestsDependencyWarning\n",
      "  File \"/Users/ari/Desktop/langchain/genai-freeCodeCamp/project1/.venv/lib/python3.12/site-packages/requests/exceptions.py\", line 9, in <module>\n",
      "    from .compat import JSONDecodeError as CompatJSONDecodeError\n",
      "  File \"/Users/ari/Desktop/langchain/genai-freeCodeCamp/project1/.venv/lib/python3.12/site-packages/requests/compat.py\", line 30, in <module>\n",
      "    chardet = _resolve_char_detection()\n",
      "              ^^^^^^^^^^^^^^^^^^^^^^^^^\n",
      "  File \"/Users/ari/Desktop/langchain/genai-freeCodeCamp/project1/.venv/lib/python3.12/site-packages/requests/compat.py\", line 24, in _resolve_char_detection\n",
      "    chardet = importlib.import_module(lib)\n",
      "              ^^^^^^^^^^^^^^^^^^^^^^^^^^^^\n",
      "  File \"/usr/local/Cellar/python@3.12/3.12.3/Frameworks/Python.framework/Versions/3.12/lib/python3.12/importlib/__init__.py\", line 90, in import_module\n",
      "    return _bootstrap._gcd_import(name[level:], package, level)\n",
      "           ^^^^^^^^^^^^^^^^^^^^^^^^^^^^^^^^^^^^^^^^^^^^^^^^^^^^\n",
      "  File \"/Users/ari/Desktop/langchain/genai-freeCodeCamp/project1/.venv/lib/python3.12/site-packages/charset_normalizer/__init__.py\", line 24, in <module>\n",
      "    from .api import from_bytes, from_fp, from_path, is_binary\n",
      "  File \"/Users/ari/Desktop/langchain/genai-freeCodeCamp/project1/.venv/lib/python3.12/site-packages/charset_normalizer/api.py\", line 5, in <module>\n",
      "    from .cd import (\n",
      "  File \"/Users/ari/Desktop/langchain/genai-freeCodeCamp/project1/.venv/lib/python3.12/site-packages/charset_normalizer/cd.py\", line 14, in <module>\n",
      "    from .md import is_suspiciously_successive_range\n",
      "AttributeError: partially initialized module 'charset_normalizer' has no attribute 'md__mypyc' (most likely due to a circular import)\n",
      "\n",
      "During handling of the above exception, another exception occurred:\n",
      "\n",
      "Traceback (most recent call last):\n",
      "  File \"/Users/ari/Desktop/langchain/genai-freeCodeCamp/project1/.venv/lib/python3.12/site-packages/pygments/styles/__init__.py\", line 45, in get_style_by_name\n",
      "ModuleNotFoundError: No module named 'pygments.styles.default'\n",
      "\n",
      "During handling of the above exception, another exception occurred:\n",
      "\n",
      "Traceback (most recent call last):\n",
      "  File \"/Users/ari/Desktop/langchain/genai-freeCodeCamp/project1/.venv/lib/python3.12/site-packages/IPython/core/interactiveshell.py\", line 2168, in showtraceback\n",
      "  File \"/Users/ari/Desktop/langchain/genai-freeCodeCamp/project1/.venv/lib/python3.12/site-packages/IPython/core/ultratb.py\", line 1454, in structured_traceback\n",
      "  File \"/Users/ari/Desktop/langchain/genai-freeCodeCamp/project1/.venv/lib/python3.12/site-packages/IPython/core/ultratb.py\", line 1345, in structured_traceback\n",
      "  File \"/Users/ari/Desktop/langchain/genai-freeCodeCamp/project1/.venv/lib/python3.12/site-packages/IPython/core/ultratb.py\", line 1192, in structured_traceback\n",
      "  File \"/Users/ari/Desktop/langchain/genai-freeCodeCamp/project1/.venv/lib/python3.12/site-packages/IPython/core/ultratb.py\", line 1082, in format_exception_as_a_whole\n",
      "  File \"/Users/ari/Desktop/langchain/genai-freeCodeCamp/project1/.venv/lib/python3.12/site-packages/IPython/core/ultratb.py\", line 1133, in get_records\n",
      "  File \"/Users/ari/Desktop/langchain/genai-freeCodeCamp/project1/.venv/lib/python3.12/site-packages/pygments/styles/__init__.py\", line 47, in get_style_by_name\n",
      "pygments.util.ClassNotFound: Could not find style module 'pygments.styles.default', though it should be builtin.\n"
     ]
    }
   ],
   "source": [
    "from langchain.llms import OpenAI"
   ]
  }
 ],
 "metadata": {
  "kernelspec": {
   "display_name": ".venv",
   "language": "python",
   "name": "python3"
  },
  "language_info": {
   "codemirror_mode": {
    "name": "ipython",
    "version": 3
   },
   "file_extension": ".py",
   "mimetype": "text/x-python",
   "name": "python",
   "nbconvert_exporter": "python",
   "pygments_lexer": "ipython3",
   "version": "3.12.3"
  }
 },
 "nbformat": 4,
 "nbformat_minor": 2
}
